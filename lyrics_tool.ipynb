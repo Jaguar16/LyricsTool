{
 "metadata": {
  "language_info": {
   "codemirror_mode": {
    "name": "ipython",
    "version": 3
   },
   "file_extension": ".py",
   "mimetype": "text/x-python",
   "name": "python",
   "nbconvert_exporter": "python",
   "pygments_lexer": "ipython3",
   "version": "3.8.5-final"
  },
  "orig_nbformat": 2,
  "kernelspec": {
   "name": "python3",
   "display_name": "Python 3.8.5 32-bit",
   "metadata": {
    "interpreter": {
     "hash": "7a542ca580817fc4dd55327026e074e2fa0cd470fc5dee9350c2d8b13822db8d"
    }
   }
  }
 },
 "nbformat": 4,
 "nbformat_minor": 2,
 "cells": [
  {
   "source": [
    "### L'outil va déterminer quel est le genre de musique entre \n",
    "### le Rock, l'Hip Hop et le Reggae \n",
    "### à partir des paroles qu'on lui donne en paramètre\n",
    "\n"
   ],
   "cell_type": "markdown",
   "metadata": {}
  },
  {
   "cell_type": "code",
   "execution_count": 116,
   "metadata": {},
   "outputs": [],
   "source": [
    "import pandas as pd\n",
    "import numpy as np\n",
    "import os as os\n",
    "import re as re\n",
    "import nltk as nltk\n",
    "from sklearn.model_selection import train_test_split\n",
    "from sklearn.feature_extraction import text      \n",
    "from sklearn.feature_extraction.text import CountVectorizer\n",
    "from sklearn import model_selection, svm\n",
    "from sklearn.metrics import confusion_matrix, classification_report, accuracy_score, f1_score\n",
    "from sklearn.feature_extraction.text import TfidfVectorizer\n",
    "from sklearn.linear_model import LogisticRegression\n",
    "from sklearn.tree import DecisionTreeClassifier\n",
    "from sklearn.linear_model import SGDClassifier"
   ]
  },
  {
   "source": [
    "Cet outil correspond à de la Classification de Texte, on va utiliser des modèles d'apprentissage machine supervisé.\n",
    "\n",
    "Les données qu'on veut sont les paroles de musique et leur genre. Pour utiliser nos modèles on va représenter nos paroles avec la représentation bag of word. On utilisera les modèles grâce à la librairie scikit-learn. Nous utiliserons à la fin de ce notebook des mesures pour evaluer nos modèles et en fonction des résultat exprimer s'il existe des différences notables entre ces 3 genres de musique à partir uniquement de leur parole et s'il est possible de déterminer le genre d'une musique uniquement à partir de ses paroles. On ne traitera que les musiques avec des paroles en anglais !\n",
    "\n",
    "Les bases de données que nous utiliserons  : [150K Lyrics Labeled with Spotify Valence](https://www.kaggle.com/edenbd/150k-lyrics-labeled-with-spotify-valence?select=labeled_lyrics_cleaned.csv), [Spotify Tracks DB](https://www.kaggle.com/zaheenhamidani/ultimate-spotify-tracks-db?select=SpotifyFeatures.csv), [Lyrics Data](https://www.kaggle.com/neisse/scrapped-lyrics-from-6-genres?select=lyrics-data.csv). \n",
    "On va récuperer dans les paroles des musique Rock et Hip Hop dans la dernière BD et les paroles de musique Reggae dans la première.\n",
    "En effet le genre reggae n'est pas dans la dernière BD.\n",
    "\n",
    "On charge nos bases de données dans des dataFrame"
   ],
   "cell_type": "markdown",
   "metadata": {}
  },
  {
   "cell_type": "code",
   "execution_count": 2,
   "metadata": {},
   "outputs": [],
   "source": [
    "path = os.getcwd()\n",
    "filePathlyrics = path+r'\\data\\lyrics-data.csv'\n",
    "filePathLabeledLyrics = path+r'\\data\\labeled_lyrics_cleaned.csv'\n",
    "filePathartists = path+r'\\data\\artists-data.csv'\n",
    "filePathSpotify = path+r'\\data\\SpotifyFeatures.csv'\n",
    "data_lyrics = pd.read_csv(filePathlyrics)\n",
    "data_artists = pd.read_csv(filePathartists)\n",
    "data_lyrics_labeled = pd.read_csv(filePathLabeledLyrics)\n",
    "data_spotify = pd.read_csv(filePathSpotify)"
   ]
  },
  {
   "source": [
    "Pour des raisons de mémoires, on va limiter le nombre de musique qu'on veut récuperer et mettre en entrée des modèles"
   ],
   "cell_type": "markdown",
   "metadata": {}
  },
  {
   "cell_type": "code",
   "execution_count": 3,
   "metadata": {},
   "outputs": [],
   "source": [
    "NB_MUSIQUE_MAX = 200\n",
    "SIZE_TRAIN = 60\n",
    "SIZE_TEST = 10"
   ]
  },
  {
   "source": [
    "\n",
    "Dans la DataFrame `data_lyrics` on s'interesse a :\n",
    "* La colonne `ALink`, nom de l'artiste (du groupe éventuellement) dans un format d'écriture qui nous servira à faire le lien avec la deuxième DataFrame `data_artist`\n",
    "* La colonne `Lyric`, les paroles de la musique. S'il y en a pas il est indiqué par le texte 'Instrumental'\n",
    "\n",
    "Dans la DataFrame `data_artists` on s'interesse a :\n",
    "* La colonne `Artist`, nom de l'artiste (du groupe éventuellement)\n",
    "* La colonne `Link`, un format d'écriture du nom de l'artiste\n",
    "* Le colonne `Genre`, le genre des musiques de l'Artiste \n",
    "\n",
    "Dans la DataFrame `data_lyrics_labeled` on s'interesse a :\n",
    "* La colonne `artist`, nom de l'artiste (du groupe éventuellement)\n",
    "* La colonne `seq`, les paroles de la musique.\n",
    "\n",
    "Dans la DataFrame `data_spotify` on s'interesse a :\n",
    "* La colonne `artist_name`, nom de l'artiste (du groupe éventuellement)\n",
    "* Le colonne `Genre`, le genre des musiques de l'Artiste\n",
    "\n",
    "Pour récuperer les paroles de musique Reggae on va chercher les artistes du genre Reggae dans `data_spotify` et on va filtrer les données de `data_lyrics_labeled` pour n'avoir que les artistes du genres Reggae et donc que les paroles du genre Reggea.\n",
    "\n",
    "\n",
    "L'objectif étant de regrouper dans une DataFrame l'artiste, le genre et les paroles. (On se servira que des 2 dernières pour nos modèles, l'artiste ce n'est que par curiosité :) )\n",
    "\n",
    "Ci-dessous une visualisation des DataFrame"
   ],
   "cell_type": "markdown",
   "metadata": {}
  },
  {
   "source": [
    "data_lyrics.head(2)"
   ],
   "cell_type": "code",
   "metadata": {},
   "execution_count": 4,
   "outputs": [
    {
     "output_type": "execute_result",
     "data": {
      "text/plain": [
       "             ALink              SName                                  SLink  \\\n",
       "0  /10000-maniacs/     More Than This     /10000-maniacs/more-than-this.html   \n",
       "1  /10000-maniacs/  Because The Night  /10000-maniacs/because-the-night.html   \n",
       "\n",
       "                                               Lyric    Idiom  \n",
       "0  I could feel at the time. There was no way of ...  ENGLISH  \n",
       "1  Take me now, baby, here as I am. Hold me close...  ENGLISH  "
      ],
      "text/html": "<div>\n<style scoped>\n    .dataframe tbody tr th:only-of-type {\n        vertical-align: middle;\n    }\n\n    .dataframe tbody tr th {\n        vertical-align: top;\n    }\n\n    .dataframe thead th {\n        text-align: right;\n    }\n</style>\n<table border=\"1\" class=\"dataframe\">\n  <thead>\n    <tr style=\"text-align: right;\">\n      <th></th>\n      <th>ALink</th>\n      <th>SName</th>\n      <th>SLink</th>\n      <th>Lyric</th>\n      <th>Idiom</th>\n    </tr>\n  </thead>\n  <tbody>\n    <tr>\n      <th>0</th>\n      <td>/10000-maniacs/</td>\n      <td>More Than This</td>\n      <td>/10000-maniacs/more-than-this.html</td>\n      <td>I could feel at the time. There was no way of ...</td>\n      <td>ENGLISH</td>\n    </tr>\n    <tr>\n      <th>1</th>\n      <td>/10000-maniacs/</td>\n      <td>Because The Night</td>\n      <td>/10000-maniacs/because-the-night.html</td>\n      <td>Take me now, baby, here as I am. Hold me close...</td>\n      <td>ENGLISH</td>\n    </tr>\n  </tbody>\n</table>\n</div>"
     },
     "metadata": {},
     "execution_count": 4
    }
   ]
  },
  {
   "cell_type": "code",
   "execution_count": 5,
   "metadata": {},
   "outputs": [
    {
     "output_type": "execute_result",
     "data": {
      "text/plain": [
       "          Artist  Songs  Popularity             Link Genre  \\\n",
       "0  10000 Maniacs    110         0.3  /10000-maniacs/  Rock   \n",
       "1      12 Stones     75         0.3      /12-stones/  Rock   \n",
       "\n",
       "                                              Genres  \n",
       "0  Rock; Pop; Electronica; Dance; J-Pop/J-Rock; G...  \n",
       "1  Rock; Gospel/Religioso; Hard Rock; Grunge; Roc...  "
      ],
      "text/html": "<div>\n<style scoped>\n    .dataframe tbody tr th:only-of-type {\n        vertical-align: middle;\n    }\n\n    .dataframe tbody tr th {\n        vertical-align: top;\n    }\n\n    .dataframe thead th {\n        text-align: right;\n    }\n</style>\n<table border=\"1\" class=\"dataframe\">\n  <thead>\n    <tr style=\"text-align: right;\">\n      <th></th>\n      <th>Artist</th>\n      <th>Songs</th>\n      <th>Popularity</th>\n      <th>Link</th>\n      <th>Genre</th>\n      <th>Genres</th>\n    </tr>\n  </thead>\n  <tbody>\n    <tr>\n      <th>0</th>\n      <td>10000 Maniacs</td>\n      <td>110</td>\n      <td>0.3</td>\n      <td>/10000-maniacs/</td>\n      <td>Rock</td>\n      <td>Rock; Pop; Electronica; Dance; J-Pop/J-Rock; G...</td>\n    </tr>\n    <tr>\n      <th>1</th>\n      <td>12 Stones</td>\n      <td>75</td>\n      <td>0.3</td>\n      <td>/12-stones/</td>\n      <td>Rock</td>\n      <td>Rock; Gospel/Religioso; Hard Rock; Grunge; Roc...</td>\n    </tr>\n  </tbody>\n</table>\n</div>"
     },
     "metadata": {},
     "execution_count": 5
    }
   ],
   "source": [
    "data_artists.head(2)"
   ]
  },
  {
   "cell_type": "code",
   "execution_count": 7,
   "metadata": {},
   "outputs": [
    {
     "output_type": "execute_result",
     "data": {
      "text/plain": [
       "   genre        artist_name                        track_name  \\\n",
       "0  Movie     Henri Salvador       C'est beau de faire un Show   \n",
       "1  Movie  Martin & les fées  Perdu d'avance (par Gad Elmaleh)   \n",
       "\n",
       "                 track_id  popularity  acousticness  danceability  \\\n",
       "0  0BRjO6ga9RKCKjfDqeFgWV           0         0.611         0.389   \n",
       "1  0BjC1NfoEOOusryehmNudP           1         0.246         0.590   \n",
       "\n",
       "   duration_ms  energy  instrumentalness key  liveness  loudness   mode  \\\n",
       "0        99373   0.910               0.0  C#     0.346    -1.828  Major   \n",
       "1       137373   0.737               0.0  F#     0.151    -5.559  Minor   \n",
       "\n",
       "   speechiness    tempo time_signature  valence  \n",
       "0       0.0525  166.969            4/4    0.814  \n",
       "1       0.0868  174.003            4/4    0.816  "
      ],
      "text/html": "<div>\n<style scoped>\n    .dataframe tbody tr th:only-of-type {\n        vertical-align: middle;\n    }\n\n    .dataframe tbody tr th {\n        vertical-align: top;\n    }\n\n    .dataframe thead th {\n        text-align: right;\n    }\n</style>\n<table border=\"1\" class=\"dataframe\">\n  <thead>\n    <tr style=\"text-align: right;\">\n      <th></th>\n      <th>genre</th>\n      <th>artist_name</th>\n      <th>track_name</th>\n      <th>track_id</th>\n      <th>popularity</th>\n      <th>acousticness</th>\n      <th>danceability</th>\n      <th>duration_ms</th>\n      <th>energy</th>\n      <th>instrumentalness</th>\n      <th>key</th>\n      <th>liveness</th>\n      <th>loudness</th>\n      <th>mode</th>\n      <th>speechiness</th>\n      <th>tempo</th>\n      <th>time_signature</th>\n      <th>valence</th>\n    </tr>\n  </thead>\n  <tbody>\n    <tr>\n      <th>0</th>\n      <td>Movie</td>\n      <td>Henri Salvador</td>\n      <td>C'est beau de faire un Show</td>\n      <td>0BRjO6ga9RKCKjfDqeFgWV</td>\n      <td>0</td>\n      <td>0.611</td>\n      <td>0.389</td>\n      <td>99373</td>\n      <td>0.910</td>\n      <td>0.0</td>\n      <td>C#</td>\n      <td>0.346</td>\n      <td>-1.828</td>\n      <td>Major</td>\n      <td>0.0525</td>\n      <td>166.969</td>\n      <td>4/4</td>\n      <td>0.814</td>\n    </tr>\n    <tr>\n      <th>1</th>\n      <td>Movie</td>\n      <td>Martin &amp; les fées</td>\n      <td>Perdu d'avance (par Gad Elmaleh)</td>\n      <td>0BjC1NfoEOOusryehmNudP</td>\n      <td>1</td>\n      <td>0.246</td>\n      <td>0.590</td>\n      <td>137373</td>\n      <td>0.737</td>\n      <td>0.0</td>\n      <td>F#</td>\n      <td>0.151</td>\n      <td>-5.559</td>\n      <td>Minor</td>\n      <td>0.0868</td>\n      <td>174.003</td>\n      <td>4/4</td>\n      <td>0.816</td>\n    </tr>\n  </tbody>\n</table>\n</div>"
     },
     "metadata": {},
     "execution_count": 7
    }
   ],
   "source": [
    "data_spotify.head(2)"
   ]
  },
  {
   "cell_type": "code",
   "execution_count": 8,
   "metadata": {},
   "outputs": [
    {
     "output_type": "execute_result",
     "data": {
      "text/plain": [
       "   Unnamed: 0        artist  \\\n",
       "0           0  Elijah Blake   \n",
       "1           1  Elijah Blake   \n",
       "\n",
       "                                                 seq              song  label  \n",
       "0  No, no\\r\\nI ain't ever trapped out the bando\\r...          Everyday  0.626  \n",
       "1  The drinks go down and smoke goes up, I feel m...  Live Till We Die  0.630  "
      ],
      "text/html": "<div>\n<style scoped>\n    .dataframe tbody tr th:only-of-type {\n        vertical-align: middle;\n    }\n\n    .dataframe tbody tr th {\n        vertical-align: top;\n    }\n\n    .dataframe thead th {\n        text-align: right;\n    }\n</style>\n<table border=\"1\" class=\"dataframe\">\n  <thead>\n    <tr style=\"text-align: right;\">\n      <th></th>\n      <th>Unnamed: 0</th>\n      <th>artist</th>\n      <th>seq</th>\n      <th>song</th>\n      <th>label</th>\n    </tr>\n  </thead>\n  <tbody>\n    <tr>\n      <th>0</th>\n      <td>0</td>\n      <td>Elijah Blake</td>\n      <td>No, no\\r\\nI ain't ever trapped out the bando\\r...</td>\n      <td>Everyday</td>\n      <td>0.626</td>\n    </tr>\n    <tr>\n      <th>1</th>\n      <td>1</td>\n      <td>Elijah Blake</td>\n      <td>The drinks go down and smoke goes up, I feel m...</td>\n      <td>Live Till We Die</td>\n      <td>0.630</td>\n    </tr>\n  </tbody>\n</table>\n</div>"
     },
     "metadata": {},
     "execution_count": 8
    }
   ],
   "source": [
    "data_lyrics_labeled.head(2)"
   ]
  },
  {
   "source": [
    "On prépare une fonction de pré-traitement du texte de nos chansons.\n",
    "\n",
    "Pour cela, on a besoin de :\n",
    "* Supprimer les caractères qui ne sont pas du texe (des mots)\n",
    "* Supprimer les \"stop words\"\n",
    "* Mettre tous les caractères en miniscule.\n",
    "\n",
    "Nous traitons les chansons anglaises, on peut alors importer les stop words anglais uniquement avec nltk.\n",
    "Nous verrons ensuite que certaint pré-traitement ici seront inutiles puisque nous utiliserons les CountVector de sklearn qui convertira en matrice de token les paroles (Lyric). Le module CountVector nous permet de passer en paramètre le langage des stop words, l'encodage etc.\n"
   ],
   "cell_type": "markdown",
   "metadata": {}
  },
  {
   "cell_type": "code",
   "execution_count": 108,
   "metadata": {},
   "outputs": [],
   "source": [
    "from nltk.corpus import stopwords\n",
    "#nltk.download('stopwords')\n",
    "stop_word = stopwords.words(\"english\")\n",
    "def text_prepoc(txt):\n",
    "    #supprime les majuscules, la ponctuation : '!?.,' etc\n",
    "    t = txt.lower() #plus besoin\n",
    "    #t = ' '.join([word for word in t.split(' ') if word not in stop_word]) # plus besoin avec CountVector\n",
    "    t = txt.encode('ascii', 'ignore').decode()\n",
    "    t = re.sub('[^a-zA-Z0-9 ]', ' ', t)\n",
    "    return t\n"
   ]
  },
  {
   "source": [
    "On veut dans une dataFrame les musiques de hip hop uniquement.\n",
    "\n",
    "Pour cela on récupère les artistes de Hip Hop dans notre dataFrame `data_artists` grace à la colonne `'Genre'`.\n",
    "On peut alors, avec la méthode `merge` de Pandas filtrer et récuperer les chanteurs de hip hop qui correspondent dans la dataFrame des paroles. On récupère enfin les colonnes qui nous interesse comme décrites plus haut."
   ],
   "cell_type": "markdown",
   "metadata": {}
  },
  {
   "cell_type": "code",
   "execution_count": 10,
   "metadata": {},
   "outputs": [],
   "source": [
    "hiphop_artist = data_artists[data_artists['Genre'] == \"Hip Hop\"]\n",
    "hiphop_musique = pd.merge(data_lyrics, hiphop_artist, how='inner', left_on='ALink', right_on='Link')\n",
    "hiphop_musique = hiphop_musique[['Genre', 'Artist', 'SName', 'Lyric', 'Idiom']].rename(columns={'SName':'Titre'})"
   ]
  },
  {
   "source": [
    "On s'interresse uniquement aux chansons anglaises. \n",
    "\n",
    "(On supprime les chansons sans paroles caratérisées par la valeur `Instrumental` dans la colonne `'Lyric'`)"
   ],
   "cell_type": "markdown",
   "metadata": {}
  },
  {
   "cell_type": "code",
   "execution_count": 11,
   "metadata": {},
   "outputs": [],
   "source": [
    "mask_instrumental = hiphop_musique['Lyric'] != 'Instrumental'\n",
    "mask_langage = hiphop_musique['Idiom'] == 'ENGLISH'\n",
    "hiphop_musique = hiphop_musique[mask_instrumental]\n",
    "hiphop_musique = hiphop_musique[mask_langage]"
   ]
  },
  {
   "source": [
    "On limite le nombre de musique par genre à `NB_MUSIQUE_MAX`"
   ],
   "cell_type": "markdown",
   "metadata": {}
  },
  {
   "cell_type": "code",
   "execution_count": 104,
   "metadata": {},
   "outputs": [
    {
     "output_type": "execute_result",
     "data": {
      "text/plain": [
       "       Genre        Artist                                         Titre  \\\n",
       "0    Hip Hop  Beastie Boys                                      Sabotage   \n",
       "1    Hip Hop  Beastie Boys                                 Intergalactic   \n",
       "2    Hip Hop  Beastie Boys   You Gotta  Fight For Your Right  To Party     \n",
       "3    Hip Hop  Beastie Boys                                     Sure Shot   \n",
       "4    Hip Hop  Beastie Boys                       No Sleep  Till Brooklyn   \n",
       "..       ...           ...                                           ...   \n",
       "227  Hip Hop  Beastie Boys                          Rhymin  And Stealin    \n",
       "228  Hip Hop  Beastie Boys                                3 The Hard Way   \n",
       "230  Hip Hop  Beastie Boys                               Shake Your Rump   \n",
       "231  Hip Hop  Beastie Boys                         Three Mc s And One Dj   \n",
       "232  Hip Hop  Beastie Boys                                   Jimmy James   \n",
       "\n",
       "                                                 Lyric    Idiom  \n",
       "0    I can t stand it  I know you planned it  I m a...  ENGLISH  \n",
       "1    Intergalactic Planetary Planetary Intergalacti...  ENGLISH  \n",
       "2    Kick it    Verse 1   You wake up late for scho...  ENGLISH  \n",
       "3    You can t  you won t and you don t stop  Mike ...  ENGLISH  \n",
       "4     chorus  No sleep  til   Brooklyn    Foot on t...  ENGLISH  \n",
       "..                                                 ...      ...  \n",
       "227  Because mutiny on the bounty s what we re all ...  ENGLISH  \n",
       "228  Fresh dressed  cause I shop at Models  Deep in...  ENGLISH  \n",
       "230  Now Randy listen I rock a house party at the d...  ENGLISH  \n",
       "231  Cause nobody can do it like Mix Master Mike ca...  ENGLISH  \n",
       "232  People How You Doing There s A New Day Dawning...  ENGLISH  \n",
       "\n",
       "[200 rows x 5 columns]"
      ],
      "text/html": "<div>\n<style scoped>\n    .dataframe tbody tr th:only-of-type {\n        vertical-align: middle;\n    }\n\n    .dataframe tbody tr th {\n        vertical-align: top;\n    }\n\n    .dataframe thead th {\n        text-align: right;\n    }\n</style>\n<table border=\"1\" class=\"dataframe\">\n  <thead>\n    <tr style=\"text-align: right;\">\n      <th></th>\n      <th>Genre</th>\n      <th>Artist</th>\n      <th>Titre</th>\n      <th>Lyric</th>\n      <th>Idiom</th>\n    </tr>\n  </thead>\n  <tbody>\n    <tr>\n      <th>0</th>\n      <td>Hip Hop</td>\n      <td>Beastie Boys</td>\n      <td>Sabotage</td>\n      <td>I can t stand it  I know you planned it  I m a...</td>\n      <td>ENGLISH</td>\n    </tr>\n    <tr>\n      <th>1</th>\n      <td>Hip Hop</td>\n      <td>Beastie Boys</td>\n      <td>Intergalactic</td>\n      <td>Intergalactic Planetary Planetary Intergalacti...</td>\n      <td>ENGLISH</td>\n    </tr>\n    <tr>\n      <th>2</th>\n      <td>Hip Hop</td>\n      <td>Beastie Boys</td>\n      <td>You Gotta  Fight For Your Right  To Party</td>\n      <td>Kick it    Verse 1   You wake up late for scho...</td>\n      <td>ENGLISH</td>\n    </tr>\n    <tr>\n      <th>3</th>\n      <td>Hip Hop</td>\n      <td>Beastie Boys</td>\n      <td>Sure Shot</td>\n      <td>You can t  you won t and you don t stop  Mike ...</td>\n      <td>ENGLISH</td>\n    </tr>\n    <tr>\n      <th>4</th>\n      <td>Hip Hop</td>\n      <td>Beastie Boys</td>\n      <td>No Sleep  Till Brooklyn</td>\n      <td>chorus  No sleep  til   Brooklyn    Foot on t...</td>\n      <td>ENGLISH</td>\n    </tr>\n    <tr>\n      <th>...</th>\n      <td>...</td>\n      <td>...</td>\n      <td>...</td>\n      <td>...</td>\n      <td>...</td>\n    </tr>\n    <tr>\n      <th>227</th>\n      <td>Hip Hop</td>\n      <td>Beastie Boys</td>\n      <td>Rhymin  And Stealin</td>\n      <td>Because mutiny on the bounty s what we re all ...</td>\n      <td>ENGLISH</td>\n    </tr>\n    <tr>\n      <th>228</th>\n      <td>Hip Hop</td>\n      <td>Beastie Boys</td>\n      <td>3 The Hard Way</td>\n      <td>Fresh dressed  cause I shop at Models  Deep in...</td>\n      <td>ENGLISH</td>\n    </tr>\n    <tr>\n      <th>230</th>\n      <td>Hip Hop</td>\n      <td>Beastie Boys</td>\n      <td>Shake Your Rump</td>\n      <td>Now Randy listen I rock a house party at the d...</td>\n      <td>ENGLISH</td>\n    </tr>\n    <tr>\n      <th>231</th>\n      <td>Hip Hop</td>\n      <td>Beastie Boys</td>\n      <td>Three Mc s And One Dj</td>\n      <td>Cause nobody can do it like Mix Master Mike ca...</td>\n      <td>ENGLISH</td>\n    </tr>\n    <tr>\n      <th>232</th>\n      <td>Hip Hop</td>\n      <td>Beastie Boys</td>\n      <td>Jimmy James</td>\n      <td>People How You Doing There s A New Day Dawning...</td>\n      <td>ENGLISH</td>\n    </tr>\n  </tbody>\n</table>\n<p>200 rows × 5 columns</p>\n</div>"
     },
     "metadata": {},
     "execution_count": 104
    }
   ],
   "source": [
    "hiphop_musique = hiphop_musique.head(NB_MUSIQUE_MAX)\n",
    "hiphop_musique.applymap(text_prepoc)"
   ]
  },
  {
   "source": [
    "### On procède de la même manière pour le genre Rock"
   ],
   "cell_type": "markdown",
   "metadata": {}
  },
  {
   "cell_type": "code",
   "execution_count": 13,
   "metadata": {},
   "outputs": [
    {
     "output_type": "execute_result",
     "data": {
      "text/plain": [
       "    Genre         Artist                 Titre  \\\n",
       "0    rock  10000 maniacs                         \n",
       "1    rock  10000 maniacs                 night   \n",
       "2    rock  10000 maniacs                  days   \n",
       "3    rock  10000 maniacs         campfire song   \n",
       "4    rock  10000 maniacs  everyday like sunday   \n",
       "..    ...            ...                   ...   \n",
       "196  rock      12 stones              lifeless   \n",
       "197  rock      12 stones           little eyes   \n",
       "198  rock      12 stones               memphis   \n",
       "199  rock      12 stones                  life   \n",
       "200  rock      12 stones           nothing say   \n",
       "\n",
       "                                                 Lyric    Idiom  \n",
       "0    could feel time  way knowing  fallen leaves ni...  english  \n",
       "1    take now  baby  am  hold close  try understand...  english  \n",
       "2    are  days remember  never never since  promise...  english  \n",
       "3    lie say   o mountain coal veins beds dig   500...  english  \n",
       "4    trudging slowly wet sand  back bench clothes s...  english  \n",
       "..                                                 ...      ...  \n",
       "196  desperate waiting  frozen core  numb  feeling ...  english  \n",
       "197  little eyes  see again  know sin  try hide awa...  english  \n",
       "198  pretend world s changing  believe deserve much...  english  \n",
       "199  find question again  doubt love given me  hope...  english  \n",
       "200  there s nothing say  least clouds still linger...  english  \n",
       "\n",
       "[200 rows x 5 columns]"
      ],
      "text/html": "<div>\n<style scoped>\n    .dataframe tbody tr th:only-of-type {\n        vertical-align: middle;\n    }\n\n    .dataframe tbody tr th {\n        vertical-align: top;\n    }\n\n    .dataframe thead th {\n        text-align: right;\n    }\n</style>\n<table border=\"1\" class=\"dataframe\">\n  <thead>\n    <tr style=\"text-align: right;\">\n      <th></th>\n      <th>Genre</th>\n      <th>Artist</th>\n      <th>Titre</th>\n      <th>Lyric</th>\n      <th>Idiom</th>\n    </tr>\n  </thead>\n  <tbody>\n    <tr>\n      <th>0</th>\n      <td>rock</td>\n      <td>10000 maniacs</td>\n      <td></td>\n      <td>could feel time  way knowing  fallen leaves ni...</td>\n      <td>english</td>\n    </tr>\n    <tr>\n      <th>1</th>\n      <td>rock</td>\n      <td>10000 maniacs</td>\n      <td>night</td>\n      <td>take now  baby  am  hold close  try understand...</td>\n      <td>english</td>\n    </tr>\n    <tr>\n      <th>2</th>\n      <td>rock</td>\n      <td>10000 maniacs</td>\n      <td>days</td>\n      <td>are  days remember  never never since  promise...</td>\n      <td>english</td>\n    </tr>\n    <tr>\n      <th>3</th>\n      <td>rock</td>\n      <td>10000 maniacs</td>\n      <td>campfire song</td>\n      <td>lie say   o mountain coal veins beds dig   500...</td>\n      <td>english</td>\n    </tr>\n    <tr>\n      <th>4</th>\n      <td>rock</td>\n      <td>10000 maniacs</td>\n      <td>everyday like sunday</td>\n      <td>trudging slowly wet sand  back bench clothes s...</td>\n      <td>english</td>\n    </tr>\n    <tr>\n      <th>...</th>\n      <td>...</td>\n      <td>...</td>\n      <td>...</td>\n      <td>...</td>\n      <td>...</td>\n    </tr>\n    <tr>\n      <th>196</th>\n      <td>rock</td>\n      <td>12 stones</td>\n      <td>lifeless</td>\n      <td>desperate waiting  frozen core  numb  feeling ...</td>\n      <td>english</td>\n    </tr>\n    <tr>\n      <th>197</th>\n      <td>rock</td>\n      <td>12 stones</td>\n      <td>little eyes</td>\n      <td>little eyes  see again  know sin  try hide awa...</td>\n      <td>english</td>\n    </tr>\n    <tr>\n      <th>198</th>\n      <td>rock</td>\n      <td>12 stones</td>\n      <td>memphis</td>\n      <td>pretend world s changing  believe deserve much...</td>\n      <td>english</td>\n    </tr>\n    <tr>\n      <th>199</th>\n      <td>rock</td>\n      <td>12 stones</td>\n      <td>life</td>\n      <td>find question again  doubt love given me  hope...</td>\n      <td>english</td>\n    </tr>\n    <tr>\n      <th>200</th>\n      <td>rock</td>\n      <td>12 stones</td>\n      <td>nothing say</td>\n      <td>there s nothing say  least clouds still linger...</td>\n      <td>english</td>\n    </tr>\n  </tbody>\n</table>\n<p>200 rows × 5 columns</p>\n</div>"
     },
     "metadata": {},
     "execution_count": 13
    }
   ],
   "source": [
    "rock_artist = data_artists[data_artists['Genre'] == \"Rock\"]\n",
    "rock_musique = pd.merge(data_lyrics, rock_artist, how='inner', left_on='ALink', right_on='Link')\n",
    "rock_musique = rock_musique[['Genre', 'Artist', 'SName', 'Lyric', 'Idiom']].rename(columns={'SName':'Titre'})\n",
    "mask_instrumental = rock_musique['Lyric'] != 'Instrumental'\n",
    "mask_langage = rock_musique['Idiom'] == 'ENGLISH'\n",
    "rock_musique = rock_musique[mask_instrumental]\n",
    "rock_musique = rock_musique[mask_langage]\n",
    "rock_musique = rock_musique.head(NB_MUSIQUE_MAX)\n",
    "rock_musique.applymap(text_prepoc)"
   ]
  },
  {
   "source": [
    "Pour le genre Reggae, on va récuperer les paroles comme expliqué plus haut : \n",
    "* On extrait de la dataFrame les artistes du genre Reggae uniquement \n",
    "* On recupere l'intersection des dataFrame `data_lyrics_labeled` et `reggae_artists` pour obtenir les musiques Reggae dans `data_lyrics_labeled` (l'opération innerjoin)\n",
    "* On récupère les colonnes qui nous interesse et renome les colonnes pour qu'elles aient les même noms que celles des dataFrame `hiphop_musique` et `rock_musique`\n"
   ],
   "cell_type": "markdown",
   "metadata": {}
  },
  {
   "cell_type": "code",
   "execution_count": null,
   "metadata": {},
   "outputs": [],
   "source": [
    "reggae_artists = data_spotify[data_spotify['genre']=='Reggae'][['genre','artist_name']].drop_duplicates() #Pour supprimer les répetitions\n",
    "reggae_musique = pd.merge(data_lyrics_labeled, reggae_artists, how='inner', left_on='artist', right_on='artist_name')\n",
    "reggae_musique = reggae_musique[['genre', 'artist', 'song', 'seq']].rename(columns={'genre':'Genre', 'artist':'Artist', 'song':'Titre','seq':'Lyric'})\n",
    "reggae_musique = reggae_musique.dropna().head(NB_MUSIQUE_MAX) #drop na values (au cas où...)\n",
    "reggae_musique['Lyric'] = reggae_musique['Lyric'].apply(text_prepoc)"
   ]
  },
  {
   "source": [
    "On stock dans la variable X le tableau final avec les 3 genres et les colonnes qui nous intéresse.\n",
    "L'idée est d'utiliser un ou plusieurs modèles (Machine Learning) de Classification.\n",
    "On va découper nos données en données d'entrainement pour les modèles et en données de test pour l'évaluation de ces derniers.\n",
    "On aura donc les ensembles suivant :\n",
    "* Les Paroles d'entrainement\n",
    "* Les Genres qui correspondent\n",
    "* Les paroles de test\n",
    "* Les Genres de ces paroles de test\n",
    "\n",
    "Grâce au module `CountVectorizer` on va représenter nos Lyrics en matrice (Bag of Word representation)"
   ],
   "cell_type": "markdown",
   "metadata": {}
  },
  {
   "cell_type": "code",
   "execution_count": 107,
   "metadata": {},
   "outputs": [
    {
     "output_type": "execute_result",
     "data": {
      "text/plain": [
       "      Genre        Artist                                         Titre  \\\n",
       "0   Hip Hop  Beastie Boys                                      Sabotage   \n",
       "1   Hip Hop  Beastie Boys                                 Intergalactic   \n",
       "2   Hip Hop  Beastie Boys  (You Gotta) Fight For Your Right (To Party!)   \n",
       "3   Hip Hop  Beastie Boys                                     Sure Shot   \n",
       "4   Hip Hop  Beastie Boys                       No Sleep 'Till Brooklyn   \n",
       "..      ...           ...                                           ...   \n",
       "55   Reggae    Rebelution                                     Moonlight   \n",
       "56   Reggae    Rebelution                                More Than Ever   \n",
       "57   Reggae    Rebelution                                  Wake Up Call   \n",
       "58   Reggae    Rebelution                       Closer I Get [Acoustic]   \n",
       "59   Reggae    Rebelution                       Comfort Zone [Acoustic]   \n",
       "\n",
       "                                                Lyric    Idiom  \n",
       "0   I can't stand it, I know you planned it. I'm a...  ENGLISH  \n",
       "1   Intergalactic Planetary Planetary Intergalacti...  ENGLISH  \n",
       "2   Kick it!. [Verse 1]. You wake up late for scho...  ENGLISH  \n",
       "3   You can't, you won't and you don't stop. Mike ...  ENGLISH  \n",
       "4   (chorus) No sleep 'til - Brooklyn. . Foot on t...  ENGLISH  \n",
       "..                                                ...      ...  \n",
       "55  We've been lost out here for days,\\r\\nDon't wo...      NaN  \n",
       "56  Just like I said before,\\r\\nGive me two weeks,...      NaN  \n",
       "57  It's a shame when somebody shows,\\r\\nDiamonds ...      NaN  \n",
       "58  People say it just doesn't matter but\\r\\nThe c...      NaN  \n",
       "59  Elevate yourself to the next plateau\\r\\nNot tr...      NaN  \n",
       "\n",
       "[180 rows x 5 columns]"
      ],
      "text/html": "<div>\n<style scoped>\n    .dataframe tbody tr th:only-of-type {\n        vertical-align: middle;\n    }\n\n    .dataframe tbody tr th {\n        vertical-align: top;\n    }\n\n    .dataframe thead th {\n        text-align: right;\n    }\n</style>\n<table border=\"1\" class=\"dataframe\">\n  <thead>\n    <tr style=\"text-align: right;\">\n      <th></th>\n      <th>Genre</th>\n      <th>Artist</th>\n      <th>Titre</th>\n      <th>Lyric</th>\n      <th>Idiom</th>\n    </tr>\n  </thead>\n  <tbody>\n    <tr>\n      <th>0</th>\n      <td>Hip Hop</td>\n      <td>Beastie Boys</td>\n      <td>Sabotage</td>\n      <td>I can't stand it, I know you planned it. I'm a...</td>\n      <td>ENGLISH</td>\n    </tr>\n    <tr>\n      <th>1</th>\n      <td>Hip Hop</td>\n      <td>Beastie Boys</td>\n      <td>Intergalactic</td>\n      <td>Intergalactic Planetary Planetary Intergalacti...</td>\n      <td>ENGLISH</td>\n    </tr>\n    <tr>\n      <th>2</th>\n      <td>Hip Hop</td>\n      <td>Beastie Boys</td>\n      <td>(You Gotta) Fight For Your Right (To Party!)</td>\n      <td>Kick it!. [Verse 1]. You wake up late for scho...</td>\n      <td>ENGLISH</td>\n    </tr>\n    <tr>\n      <th>3</th>\n      <td>Hip Hop</td>\n      <td>Beastie Boys</td>\n      <td>Sure Shot</td>\n      <td>You can't, you won't and you don't stop. Mike ...</td>\n      <td>ENGLISH</td>\n    </tr>\n    <tr>\n      <th>4</th>\n      <td>Hip Hop</td>\n      <td>Beastie Boys</td>\n      <td>No Sleep 'Till Brooklyn</td>\n      <td>(chorus) No sleep 'til - Brooklyn. . Foot on t...</td>\n      <td>ENGLISH</td>\n    </tr>\n    <tr>\n      <th>...</th>\n      <td>...</td>\n      <td>...</td>\n      <td>...</td>\n      <td>...</td>\n      <td>...</td>\n    </tr>\n    <tr>\n      <th>55</th>\n      <td>Reggae</td>\n      <td>Rebelution</td>\n      <td>Moonlight</td>\n      <td>We've been lost out here for days,\\r\\nDon't wo...</td>\n      <td>NaN</td>\n    </tr>\n    <tr>\n      <th>56</th>\n      <td>Reggae</td>\n      <td>Rebelution</td>\n      <td>More Than Ever</td>\n      <td>Just like I said before,\\r\\nGive me two weeks,...</td>\n      <td>NaN</td>\n    </tr>\n    <tr>\n      <th>57</th>\n      <td>Reggae</td>\n      <td>Rebelution</td>\n      <td>Wake Up Call</td>\n      <td>It's a shame when somebody shows,\\r\\nDiamonds ...</td>\n      <td>NaN</td>\n    </tr>\n    <tr>\n      <th>58</th>\n      <td>Reggae</td>\n      <td>Rebelution</td>\n      <td>Closer I Get [Acoustic]</td>\n      <td>People say it just doesn't matter but\\r\\nThe c...</td>\n      <td>NaN</td>\n    </tr>\n    <tr>\n      <th>59</th>\n      <td>Reggae</td>\n      <td>Rebelution</td>\n      <td>Comfort Zone [Acoustic]</td>\n      <td>Elevate yourself to the next plateau\\r\\nNot tr...</td>\n      <td>NaN</td>\n    </tr>\n  </tbody>\n</table>\n<p>180 rows × 5 columns</p>\n</div>"
     },
     "metadata": {},
     "execution_count": 107
    }
   ],
   "source": [
    "X = pd.concat([hiphop_musique.head(SIZE_TRAIN), rock_musique.head(SIZE_TRAIN), reggae_musique.head(SIZE_TRAIN)])\n",
    "X"
   ]
  },
  {
   "cell_type": "code",
   "execution_count": 66,
   "metadata": {},
   "outputs": [],
   "source": [
    "#y = X['Genre']\n",
    "#y.replace(['Hip Hop', 'Rock', \"Reggae\"], [1, 2, 3], inplace=True)"
   ]
  },
  {
   "cell_type": "code",
   "execution_count": 67,
   "metadata": {},
   "outputs": [],
   "source": [
    "#X_train, X_test, y_train, y_test = train_test_split(X, y, test_size=1/3)"
   ]
  },
  {
   "cell_type": "code",
   "execution_count": 70,
   "metadata": {},
   "outputs": [],
   "source": [
    "# Utilisation de CountVectorizer de la librairie sklearn\n",
    "# Convertit nos lyrics en matrice de token\n",
    "count_vectorizer = CountVectorizer(strip_accents='ascii', lowercase=True, stop_words='english', analyzer='word')\n",
    "# representation en bag of word\n",
    "bow = count_vectorizer.fit_transform(X['Lyric'].values)"
   ]
  },
  {
   "cell_type": "code",
   "execution_count": 20,
   "metadata": {},
   "outputs": [],
   "source": [
    "#Tfidf_vect = TfidfVectorizer(max_features=5000)\n",
    "#Tfidf_vect.fit(X['Lyric'])\n",
    "#Train_X_Tfidf = Tfidf_vect.transform(X_train)\n",
    "#Test_X_Tfidf = Tfidf_vect.transform(X_test)\n",
    "\n",
    "#SVM = svm.SVC(C=1.0, kernel='linear', degree=3, gamma='auto')\n",
    "#SVM.fit(Train_X_Tfidf,y_train)\n",
    "#predictions_SVM = SVM.predict(Test_X_Tfidf)"
   ]
  },
  {
   "source": [
    "On prépare nos ensembles de test qui va servir à évaluer les modèles"
   ],
   "cell_type": "markdown",
   "metadata": {}
  },
  {
   "cell_type": "code",
   "execution_count": 71,
   "metadata": {},
   "outputs": [],
   "source": [
    "test_data=pd.concat([hiphop_musique.iloc[SIZE_TRAIN:NB_MUSIQUE_MAX+SIZE_TEST], rock_musique.iloc[SIZE_TRAIN:NB_MUSIQUE_MAX+SIZE_TEST],reggae_musique.iloc[SIZE_TRAIN:NB_MUSIQUE_MAX+SIZE_TEST]])\n",
    "test_bow = count_vectorizer.transform(test_data['Lyric'].values) "
   ]
  },
  {
   "source": [
    "On voulais initialement utiliser les SVM mais on pas réussis à faire fonctionner ce modèle. Même en utilisant une representation Tf-Idf\n",
    "On cependant tester plusieurs modèles qui ont fonctionné telle que la Régression Linéaire, l'algorithme du Gradient et de l'arbre de décision."
   ],
   "cell_type": "markdown",
   "metadata": {}
  },
  {
   "cell_type": "code",
   "execution_count": 78,
   "metadata": {},
   "outputs": [],
   "source": [
    "modeles = {'Logistic Regression':LogisticRegression(max_iter=500), 'Linear SVC':svm.LinearSVC(max_iter=10000),'Decision Tree': DecisionTreeClassifier(), 'Gradient Descent': SGDClassifier()}\n",
    "for model in modeles.keys():\n",
    "    modeles[model].fit(bow.toarray(), X['Genre'])\n"
   ]
  },
  {
   "cell_type": "code",
   "execution_count": 118,
   "metadata": {},
   "outputs": [
    {
     "output_type": "stream",
     "name": "stdout",
     "text": [
      "Report du modèle Logistic Regression :\n               precision    recall  f1-score   support\n\n     Hip Hop       0.70      0.87      0.77       140\n      Reggae       0.59      0.30      0.40       140\n        Rock       0.63      0.78      0.69       140\n\n    accuracy                           0.65       420\n   macro avg       0.64      0.65      0.62       420\nweighted avg       0.64      0.65      0.62       420\n\nReport du modèle Linear SVC :\n               precision    recall  f1-score   support\n\n     Hip Hop       0.67      0.81      0.73       140\n      Reggae       0.55      0.34      0.42       140\n        Rock       0.63      0.74      0.68       140\n\n    accuracy                           0.63       420\n   macro avg       0.62      0.63      0.61       420\nweighted avg       0.62      0.63      0.61       420\n\nReport du modèle Decision Tree :\n               precision    recall  f1-score   support\n\n     Hip Hop       0.66      0.76      0.71       140\n      Reggae       0.57      0.31      0.40       140\n        Rock       0.61      0.80      0.69       140\n\n    accuracy                           0.62       420\n   macro avg       0.61      0.62      0.60       420\nweighted avg       0.61      0.62      0.60       420\n\nReport du modèle Gradient Descent :\n               precision    recall  f1-score   support\n\n     Hip Hop       0.65      0.73      0.69       140\n      Reggae       0.47      0.49      0.48       140\n        Rock       0.55      0.47      0.51       140\n\n    accuracy                           0.56       420\n   macro avg       0.56      0.56      0.56       420\nweighted avg       0.56      0.56      0.56       420\n\n"
     ]
    }
   ],
   "source": [
    "accuracy = {}\n",
    "genre_predicted = test_data[['Artist', 'Titre','Genre']]\n",
    "for model in modeles.keys():\n",
    "    pred_genre= modeles[model].predict(test_bow.toarray())\n",
    "    genre_predicted[model]=pred_genre\n",
    "    accuracy[model]=accuracy_score(test_data['Genre'],pred_genre)\n",
    "    print(f\"Report du modèle {model} :\\n\", classification_report(test_data['Genre'], pred_genre))"
   ]
  },
  {
   "cell_type": "code",
   "execution_count": 82,
   "metadata": {},
   "outputs": [
    {
     "output_type": "stream",
     "name": "stdout",
     "text": [
      "Le modèle Logistic Regression à une précision de predictions de 65.0%\nLe modèle Linear SVC à une précision de predictions de 63.1%\nLe modèle Decision Tree à une précision de predictions de 62.14%\nLe modèle Gradient Descent à une précision de predictions de 56.19%\n"
     ]
    }
   ],
   "source": [
    "for model, score in accuracy.items():\n",
    "    print(f'Le modèle {model} à une précision de predictions de {round(score*100,2)}%')"
   ]
  },
  {
   "source": [
    "On voit que le modèle avec le meilleur score est la régression linéaire, en se fiant au classification report plus haut.\n",
    "Mais les scores restent néanmoins faibles ~60%. Cela peut-être dû à la taille de nos données en entrée des modèles qui sont limités volontairement pour des raisons de mémoire. \n",
    "\n",
    "Ce taux d'erreur élevé peut aussi signifier que le vocabulaire n'est pas le critère determinant le genre d'une musique, il y a surtout le son, \"l'instrumental\" qui determine essentiellement le genre auquelle elle va appartenir. On a volontairement choisi de prendre des genres très différents parce que la tâche de reconnaître le genre entre des styles proches à partir des paroles uniquements est quasi-impossible, si on prends une musique metal et une hard rock, il faut se tourner aux sons pour les différencier.\n",
    "\n",
    "Pour améliorer notre outil, on peut essayer d'utiliser d'autres modèles et d'autres representation des mots. Analyser le sons mais dans ce cas on sort du cadre du cours. On peut aussi et c'est une amélioration très intéressante faire un génerateur de paroles en fonction du genre qu'on souhaite qui pourrait se baser sur les prédictions de cet outil."
   ],
   "cell_type": "markdown",
   "metadata": {}
  },
  {
   "cell_type": "code",
   "execution_count": 87,
   "metadata": {},
   "outputs": [
    {
     "output_type": "execute_result",
     "data": {
      "text/plain": [
       "           Artist                         Titre    Genre Logistic Regression  \\\n",
       "70   Beastie Boys              Dope Little Song  Hip Hop             Hip Hop   \n",
       "71   Beastie Boys                  Dr. Lee, Phd  Hip Hop                Rock   \n",
       "74   Beastie Boys  Drunken Praying Mantis Style  Hip Hop             Hip Hop   \n",
       "75   Beastie Boys                   Dub The Mic  Hip Hop             Hip Hop   \n",
       "76   Beastie Boys              Egg Raid On Mojo  Hip Hop             Hip Hop   \n",
       "..            ...                           ...      ...                 ...   \n",
       "195          UB40           The Train Is Coming   Reggae              Reggae   \n",
       "196          UB40      The Earth Dies Screaming   Reggae                Rock   \n",
       "197          UB40                      Cover Up   Reggae                Rock   \n",
       "198          UB40                         Rudie   Reggae                Rock   \n",
       "199          UB40              Never Let You Go   Reggae              Reggae   \n",
       "\n",
       "    Linear SVC Decision Tree Gradient Descent  \n",
       "70     Hip Hop        Reggae          Hip Hop  \n",
       "71        Rock          Rock             Rock  \n",
       "74     Hip Hop       Hip Hop          Hip Hop  \n",
       "75     Hip Hop       Hip Hop          Hip Hop  \n",
       "76      Reggae          Rock           Reggae  \n",
       "..         ...           ...              ...  \n",
       "195     Reggae        Reggae           Reggae  \n",
       "196       Rock          Rock             Rock  \n",
       "197       Rock        Reggae             Rock  \n",
       "198       Rock          Rock           Reggae  \n",
       "199     Reggae       Hip Hop           Reggae  \n",
       "\n",
       "[420 rows x 7 columns]"
      ],
      "text/html": "<div>\n<style scoped>\n    .dataframe tbody tr th:only-of-type {\n        vertical-align: middle;\n    }\n\n    .dataframe tbody tr th {\n        vertical-align: top;\n    }\n\n    .dataframe thead th {\n        text-align: right;\n    }\n</style>\n<table border=\"1\" class=\"dataframe\">\n  <thead>\n    <tr style=\"text-align: right;\">\n      <th></th>\n      <th>Artist</th>\n      <th>Titre</th>\n      <th>Genre</th>\n      <th>Logistic Regression</th>\n      <th>Linear SVC</th>\n      <th>Decision Tree</th>\n      <th>Gradient Descent</th>\n    </tr>\n  </thead>\n  <tbody>\n    <tr>\n      <th>70</th>\n      <td>Beastie Boys</td>\n      <td>Dope Little Song</td>\n      <td>Hip Hop</td>\n      <td>Hip Hop</td>\n      <td>Hip Hop</td>\n      <td>Reggae</td>\n      <td>Hip Hop</td>\n    </tr>\n    <tr>\n      <th>71</th>\n      <td>Beastie Boys</td>\n      <td>Dr. Lee, Phd</td>\n      <td>Hip Hop</td>\n      <td>Rock</td>\n      <td>Rock</td>\n      <td>Rock</td>\n      <td>Rock</td>\n    </tr>\n    <tr>\n      <th>74</th>\n      <td>Beastie Boys</td>\n      <td>Drunken Praying Mantis Style</td>\n      <td>Hip Hop</td>\n      <td>Hip Hop</td>\n      <td>Hip Hop</td>\n      <td>Hip Hop</td>\n      <td>Hip Hop</td>\n    </tr>\n    <tr>\n      <th>75</th>\n      <td>Beastie Boys</td>\n      <td>Dub The Mic</td>\n      <td>Hip Hop</td>\n      <td>Hip Hop</td>\n      <td>Hip Hop</td>\n      <td>Hip Hop</td>\n      <td>Hip Hop</td>\n    </tr>\n    <tr>\n      <th>76</th>\n      <td>Beastie Boys</td>\n      <td>Egg Raid On Mojo</td>\n      <td>Hip Hop</td>\n      <td>Hip Hop</td>\n      <td>Reggae</td>\n      <td>Rock</td>\n      <td>Reggae</td>\n    </tr>\n    <tr>\n      <th>...</th>\n      <td>...</td>\n      <td>...</td>\n      <td>...</td>\n      <td>...</td>\n      <td>...</td>\n      <td>...</td>\n      <td>...</td>\n    </tr>\n    <tr>\n      <th>195</th>\n      <td>UB40</td>\n      <td>The Train Is Coming</td>\n      <td>Reggae</td>\n      <td>Reggae</td>\n      <td>Reggae</td>\n      <td>Reggae</td>\n      <td>Reggae</td>\n    </tr>\n    <tr>\n      <th>196</th>\n      <td>UB40</td>\n      <td>The Earth Dies Screaming</td>\n      <td>Reggae</td>\n      <td>Rock</td>\n      <td>Rock</td>\n      <td>Rock</td>\n      <td>Rock</td>\n    </tr>\n    <tr>\n      <th>197</th>\n      <td>UB40</td>\n      <td>Cover Up</td>\n      <td>Reggae</td>\n      <td>Rock</td>\n      <td>Rock</td>\n      <td>Reggae</td>\n      <td>Rock</td>\n    </tr>\n    <tr>\n      <th>198</th>\n      <td>UB40</td>\n      <td>Rudie</td>\n      <td>Reggae</td>\n      <td>Rock</td>\n      <td>Rock</td>\n      <td>Rock</td>\n      <td>Reggae</td>\n    </tr>\n    <tr>\n      <th>199</th>\n      <td>UB40</td>\n      <td>Never Let You Go</td>\n      <td>Reggae</td>\n      <td>Reggae</td>\n      <td>Reggae</td>\n      <td>Hip Hop</td>\n      <td>Reggae</td>\n    </tr>\n  </tbody>\n</table>\n<p>420 rows × 7 columns</p>\n</div>"
     },
     "metadata": {},
     "execution_count": 87
    }
   ],
   "source": [
    "genre_predicted"
   ]
  },
  {
   "cell_type": "code",
   "execution_count": 123,
   "metadata": {},
   "outputs": [
    {
     "output_type": "stream",
     "name": "stdout",
     "text": [
      "Le modèle Logistic Regression pense que vos parole se rapproche du genre Hip Hop\nLe modèle Linear SVC pense que vos parole se rapproche du genre Hip Hop\nLe modèle Decision Tree pense que vos parole se rapproche du genre Rock\nLe modèle Gradient Descent pense que vos parole se rapproche du genre Rock\n"
     ]
    }
   ],
   "source": [
    "mes_paroles = input()\n",
    "bow_mes_paroles = count_vectorizer.transform([text_prepoc(mes_paroles)]) \n",
    "for model in modeles.keys():\n",
    "    p = modeles[model].predict(bow_mes_paroles)\n",
    "    print(f\"Le modèle {model} pense que vos parole se rapproche du genre {p[0]}\")"
   ]
  }
 ]
}